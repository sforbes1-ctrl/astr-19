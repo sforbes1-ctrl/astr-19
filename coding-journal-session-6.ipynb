{
 "cells": [
  {
   "cell_type": "code",
   "execution_count": 3,
   "id": "8a027d17-661b-498f-830b-544e8d5bc05f",
   "metadata": {},
   "outputs": [],
   "source": [
    "import numpy as np"
   ]
  },
  {
   "cell_type": "code",
   "execution_count": 4,
   "id": "f65bea4c-f178-4c45-a0c5-9f8565c69e27",
   "metadata": {},
   "outputs": [],
   "source": [
    "def sin_function(x):\n",
    "    return np.sin(x)\n",
    "\n",
    "def cos_function(x):\n",
    "    return np.cos(x)"
   ]
  },
  {
   "cell_type": "code",
   "execution_count": 5,
   "id": "a59c067d-ae1b-430d-adb5-767cb0e09f4d",
   "metadata": {},
   "outputs": [],
   "source": [
    "x_values = np.linspace(0, 2*np.pi, 1000)\n",
    "\n",
    "sin_values = sin_function(x_values)\n",
    "cos_values = cos_function(x_values)"
   ]
  },
  {
   "cell_type": "code",
   "execution_count": 6,
   "id": "fb8b933b-7e39-4696-bbde-34158a520e1d",
   "metadata": {},
   "outputs": [
    {
     "name": "stdout",
     "output_type": "stream",
     "text": [
      "   x        sin(x)       cos(x)\n",
      "-------------------------------\n",
      " 0.0000     0.0000     1.0000\n",
      " 0.0063     0.0063     1.0000\n",
      " 0.0126     0.0126     0.9999\n",
      " 0.0189     0.0189     0.9998\n",
      " 0.0252     0.0252     0.9997\n",
      " 0.0314     0.0314     0.9995\n",
      " 0.0377     0.0377     0.9993\n",
      " 0.0440     0.0440     0.9990\n",
      " 0.0503     0.0503     0.9987\n",
      " 0.0566     0.0566     0.9984\n"
     ]
    }
   ],
   "source": [
    "print(\"   x        sin(x)       cos(x)\")\n",
    "print(\"-------------------------------\")\n",
    "for i in range(10):\n",
    "    print(f\"{x_values[i]:7.4f}   {sin_values[i]:8.4f}   {cos_values[i]:8.4f}\")"
   ]
  }
 ],
 "metadata": {
  "kernelspec": {
   "display_name": "Python 3 (ipykernel)",
   "language": "python",
   "name": "python3"
  },
  "language_info": {
   "codemirror_mode": {
    "name": "ipython",
    "version": 3
   },
   "file_extension": ".py",
   "mimetype": "text/x-python",
   "name": "python",
   "nbconvert_exporter": "python",
   "pygments_lexer": "ipython3",
   "version": "3.13.7"
  }
 },
 "nbformat": 4,
 "nbformat_minor": 5
}
